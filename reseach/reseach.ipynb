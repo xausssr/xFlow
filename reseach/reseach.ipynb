{
 "cells": [
  {
   "cell_type": "markdown",
   "id": "a3b37e4e",
   "metadata": {},
   "source": [
    "# Получение данных"
   ]
  },
  {
   "cell_type": "code",
   "execution_count": 103,
   "id": "07450a6f",
   "metadata": {},
   "outputs": [
    {
     "name": "stdout",
     "output_type": "stream",
     "text": [
      "%pylab is deprecated, use %matplotlib inline and import the required libraries.\n",
      "Populating the interactive namespace from numpy and matplotlib\n"
     ]
    }
   ],
   "source": [
    "import requests\n",
    "import json\n",
    "import time\n",
    "import os\n",
    "import pandas as pd\n",
    "import datetime as dt\n",
    "\n",
    "from typing import List, Any, Dict, Tuple\n",
    "from tqdm.notebook import tqdm\n",
    "\n",
    "from xgboost import XGBClassifier\n",
    "from sklearn.model_selection import train_test_split\n",
    "from sklearn.metrics import roc_auc_score\n",
    "\n",
    "\n",
    "import seaborn as sns\n",
    "import matplotlib\n",
    "%pylab inline\n",
    "\n",
    "plt.style.use('bmh')"
   ]
  },
  {
   "cell_type": "markdown",
   "id": "cbbf1021",
   "metadata": {},
   "source": [
    "> Расширем немного для удобства 🐱‍💻"
   ]
  },
  {
   "cell_type": "code",
   "execution_count": 2,
   "id": "5bfcaf15",
   "metadata": {},
   "outputs": [],
   "source": [
    "class ExtendedDict(dict):\n",
    "\n",
    "    def batch_add(self, batch: Dict[str, Any]) -> None:\n",
    "        \"\"\"Обновление словаря списков по ключам - каждому списку добавляется значение с помощью append.\n",
    "        Аналогично pd.concat, но для обычных dict.\n",
    "        \n",
    "        Обновляемые ключи должны содержать плоские списки!\n",
    "\n",
    "        Args:\n",
    "            target_dict (Dict[str, List[Any]]): \n",
    "            batch (Dict[str, Any]): данные для добавление в целевой словарь\n",
    "        \"\"\"\n",
    "        for k, v in batch.items():\n",
    "            self[k].append(v)"
   ]
  },
  {
   "cell_type": "markdown",
   "id": "bdd51ad2",
   "metadata": {
    "heading_collapsed": true
   },
   "source": [
    "## География"
   ]
  },
  {
   "cell_type": "code",
   "execution_count": 3,
   "id": "b8694c86",
   "metadata": {
    "hidden": true
   },
   "outputs": [],
   "source": [
    "def get_available_areas(url: str) -> Tuple[pd.DataFrame, pd.DataFrame]:\n",
    "    \"\"\"Получение географических регионов\n",
    "    \n",
    "    Args:\n",
    "        url (str): эндпоинт api, используется для унификации функций\n",
    "    \n",
    "    Returns:\n",
    "        Typle[pd.DataFrame, pd.DataFrame]: два датафрейма:\n",
    "            * содержит название страны, id и количество областей ['name', 'country_id', 'num_areas']\n",
    "            * содержит название области, id области, id страны, если есть, то id родительской области (-1, если нет)\n",
    "                ['name', 'id', 'country_id', 'meta_area_id']\n",
    "    \"\"\"\n",
    "    \n",
    "    with requests.get(url) as req:\n",
    "        raw_data = json.loads(req.content.decode())\n",
    "    \n",
    "    country_data = ExtendedDict({'name': [], 'id': [], 'num_areas': []})\n",
    "    area_data = ExtendedDict({'name': [], 'id': [], 'country_id': [], 'meta_area_id': []})\n",
    "    \n",
    "    for country in raw_data:\n",
    "        country_data.batch_add({\n",
    "            'id': country['id'], \n",
    "            'name': country['name'], \n",
    "            'num_areas': len(country['areas'])\n",
    "        })\n",
    "        \n",
    "        for area in country['areas']:\n",
    "            area_data.batch_add({\n",
    "                'id': area['id'], \n",
    "                'name': area['name'], \n",
    "                'country_id': country['id'], \n",
    "                'meta_area_id': -1\n",
    "            })\n",
    "            \n",
    "            if len(area['areas']) > 0:\n",
    "                for sub_area in area['areas']:\n",
    "                    area_data.batch_add({\n",
    "                        'id': sub_area['id'], \n",
    "                        'name': sub_area['name'], \n",
    "                        'country_id': country['id'], \n",
    "                        'meta_area_id': area['id']\n",
    "                    })\n",
    "        \n",
    "        \n",
    "    return pd.DataFrame(country_data), pd.DataFrame(area_data)"
   ]
  },
  {
   "cell_type": "code",
   "execution_count": 4,
   "id": "983ff7b4",
   "metadata": {
    "hidden": true
   },
   "outputs": [],
   "source": [
    "countries, areas = get_available_areas('https://api.hh.ru/areas')"
   ]
  },
  {
   "cell_type": "code",
   "execution_count": 5,
   "id": "c232a355",
   "metadata": {
    "hidden": true
   },
   "outputs": [
    {
     "data": {
      "text/html": [
       "<div>\n",
       "<style scoped>\n",
       "    .dataframe tbody tr th:only-of-type {\n",
       "        vertical-align: middle;\n",
       "    }\n",
       "\n",
       "    .dataframe tbody tr th {\n",
       "        vertical-align: top;\n",
       "    }\n",
       "\n",
       "    .dataframe thead th {\n",
       "        text-align: right;\n",
       "    }\n",
       "</style>\n",
       "<table border=\"1\" class=\"dataframe\">\n",
       "  <thead>\n",
       "    <tr style=\"text-align: right;\">\n",
       "      <th></th>\n",
       "      <th>name</th>\n",
       "      <th>id</th>\n",
       "      <th>country_id</th>\n",
       "      <th>meta_area_id</th>\n",
       "    </tr>\n",
       "  </thead>\n",
       "  <tbody>\n",
       "    <tr>\n",
       "      <th>2107</th>\n",
       "      <td>Москва</td>\n",
       "      <td>1</td>\n",
       "      <td>113</td>\n",
       "      <td>-1</td>\n",
       "    </tr>\n",
       "  </tbody>\n",
       "</table>\n",
       "</div>"
      ],
      "text/plain": [
       "        name id country_id meta_area_id\n",
       "2107  Москва  1        113           -1"
      ]
     },
     "execution_count": 5,
     "metadata": {},
     "output_type": "execute_result"
    }
   ],
   "source": [
    "areas[areas['name'] == \"Москва\"]"
   ]
  },
  {
   "cell_type": "markdown",
   "id": "cb7dc401",
   "metadata": {},
   "source": [
    "## Вакансии"
   ]
  },
  {
   "cell_type": "markdown",
   "id": "68fe738c",
   "metadata": {},
   "source": [
    "> Выкачиваем по максимуму, ограничемся Москвой (hh может и забанить, если много лить😑)"
   ]
  },
  {
   "cell_type": "markdown",
   "id": "17dbd281",
   "metadata": {},
   "source": [
    "Схема данных, которую раскладываем в датасет:\n",
    "    \n",
    "* id - если до прода дойдет - отдавать карточки работы😐\n",
    "* name - название вакансии\n",
    "* salary:\n",
    "    * from - от\n",
    "    * to - до\n",
    "* published_at - размещена\n",
    "* type [id] - если открта (оценка по времени поиска специалиста)\n",
    "* employer \n",
    "    * id - id работодателя (потом можно дернуть интересующих с полной информацией)\n",
    "    * name - имя работодателя\n",
    "* snippet - основные данные\n",
    "    * requirement - что нужно соискателю\n",
    "    * responsibility - что будет делать\n",
    "* schedule [id] - тип работы (офис, удаленка и т.д.)\n",
    "* experience [id] - требуемый опыт\n",
    "* employment [id] - тип занятости\n",
    "* professional_roles - роли на работе (опять же, может пригодится) - хранить будем прям строкой"
   ]
  },
  {
   "cell_type": "markdown",
   "id": "e34374a4",
   "metadata": {},
   "source": [
    "> Так как это учебная работа, соберем только по нескольким запросам:\n",
    "    \n",
    "* it\n",
    "* ml engineer\n",
    "* data engineer\n",
    "* computer vision\n",
    "* nlp\n",
    "* neural networks\n",
    "\n",
    "> Тут придется писать через класс, чтоб красиво)"
   ]
  },
  {
   "cell_type": "code",
   "execution_count": 6,
   "id": "663bae5f",
   "metadata": {},
   "outputs": [],
   "source": [
    "class VacanciesDumper:\n",
    "    \"\"\"Класс для дампа вакансий с hh.ru\"\"\"\n",
    "    \n",
    "    def __init__(\n",
    "        self, url: str, search_queries: List[str], area: str, prev_data: pd.DataFrame = None, timeout: int = 2\n",
    "    ) -> None:\n",
    "        \"\"\"Инициализация класса\n",
    "\n",
    "        Args:\n",
    "            url (str): эндпоинт api, используется для унификации функций.\n",
    "            search_queries (List[str]): список запросов (текстовых).\n",
    "            area (str): id региона (см. табличку `areas`).\n",
    "            prev_data (pd.DataFrame, Optional): если есть предыдущие данные, то обогощаем их, тут же MLOps, повторяемость,\n",
    "                накопление, все дела. Defaults to None.\n",
    "            timeout (int): после каждого запроса пауза в <timeout> мс, что б не банили. Defaults to 2.\n",
    "\n",
    "        Returns:\n",
    "            pd.DataFrame: содержит поля:\n",
    "                id - если до прода дойдет - отдавать карточки работы😐 [id]\n",
    "                name - название вакансии [vac_name]\n",
    "                salary - зарплата:\n",
    "                    from - от [salary_from]\n",
    "                    to - до [salary_to]\n",
    "                published_at - размещена [datetime]\n",
    "                type [id] - если открта (оценка по времени поиска специалиста) [state]\n",
    "                employer - работодатель:\n",
    "                    id - id работодателя (потом можно дернуть интересующих с полной информацией) [employer_id]\n",
    "                    name - имя работодателя [employer_name]\n",
    "                snippet - основные данные\n",
    "                    requirement - что нужно соискателю [requirement]\n",
    "                    responsibility - что будет делать [responsibility]\n",
    "                schedule [id] - тип работы (офис, удаленка и т.д.) [schedule]\n",
    "                experience [name] - требуемый опыт [experience]\n",
    "                employment [id] - тип занятости [employment]\n",
    "                professional_roles - роли на работе (опять же, может пригодится) - хранить будем прям строкой [roles]\n",
    "        \"\"\"\n",
    "        \n",
    "        self.page = 0\n",
    "        self.pages = None\n",
    "        if prev_data is None:\n",
    "            prev_data = pd.DataFrame(self.get_template())\n",
    "        self.data = prev_data\n",
    "        self.url = url\n",
    "        self.area = area\n",
    "        self.search_queries = search_queries\n",
    "        self.timeout = timeout\n",
    "        \n",
    "        self.new_vacancies = 0\n",
    "        self.drop_vacancies = 0\n",
    "    \n",
    "    @staticmethod\n",
    "    def get_template() -> Dict[str, List[str]]:\n",
    "        return ExtendedDict({\n",
    "            'id': [], \n",
    "            'vac_name': [], \n",
    "            'salary_from': [], \n",
    "            'salary_to': [], \n",
    "            'datetime': [], \n",
    "            'state': [],\n",
    "            'employer_id': [],\n",
    "            'employer_name': [],\n",
    "            'requirement': [],\n",
    "            'responsibility': [],\n",
    "            'schedule': [],\n",
    "            'experience': [],\n",
    "            'employment': [],\n",
    "            'roles': []\n",
    "        })\n",
    "    \n",
    "    @staticmethod\n",
    "    def __log(message) -> None:\n",
    "        ts = dt.datetime.now().strftime('%d.%m.%y %H:%M:%S')\n",
    "        print(f'[{ts}] {message}')\n",
    "    \n",
    "    def __dump_page(self, query) -> None:\n",
    "        \"\"\"Дамп одной страницы\"\"\"\n",
    "        \n",
    "        with requests.get(self.url, {'area': self.area, 'per_page': 100, 'text': query, 'page': self.page}) as req:\n",
    "            raw_data = json.loads(req.content.decode())\n",
    "        \n",
    "        _temp_dict = self.get_template()        \n",
    "        for vac in raw_data['items']:\n",
    "            if vac['id'] in self.data['id']:\n",
    "                self.drop_vacancies += 1\n",
    "            else:\n",
    "                salary = {} if vac['salary'] is None else vac['salary']\n",
    "                employer = {} if vac['employer'] is None else vac['employer']\n",
    "                snippet = {} if vac['snippet'] is None else vac['snippet']\n",
    "                schedule = {} if vac['schedule'] is None else vac['schedule']\n",
    "                state = {} if vac['type'] is None else vac['type']\n",
    "                experience = {} if vac['experience'] is None else vac['experience']\n",
    "                employment = {} if vac['employment'] is None else vac['employment']\n",
    "                    \n",
    "                _temp_dict.batch_add({\n",
    "                    'id': vac['id'], \n",
    "                    'vac_name': vac['name'], \n",
    "                    'salary_from': salary.get('from', None),\n",
    "                    'salary_to': salary.get('from', None), \n",
    "                    'datetime': vac['published_at'], \n",
    "                    'state': state.get('id', None),\n",
    "                    'employer_id': employer.get('id', None),\n",
    "                    'employer_name': employer.get('id', None),\n",
    "                    'requirement': snippet.get('requirement', None),\n",
    "                    'responsibility': snippet.get('responsibility', None),\n",
    "                    'schedule': schedule.get('id', None),\n",
    "                    'experience': experience.get('name', None),\n",
    "                    'employment': employment.get('id', None),\n",
    "                    'roles': vac['professional_roles']\n",
    "                })\n",
    "                self.new_vacancies += 1\n",
    "        \n",
    "        self.data = pd.concat([self.data, pd.DataFrame(_temp_dict)], axis=0, ignore_index=True)\n",
    "        \n",
    "        self.page += 1\n",
    "        if self.pages is None:\n",
    "            self.pages = int(raw_data['pages'])\n",
    "    \n",
    "    def __dump_query(self, query) -> None:\n",
    "        \"\"\"Дамп одного запроса из `search_queries`\"\"\"\n",
    "        \n",
    "        self.page = 0\n",
    "        self.__dump_page(query)\n",
    "        time.sleep(self.timeout)\n",
    "        \n",
    "        while self.page < self.pages:\n",
    "            self.__dump_page(query)\n",
    "            self.__log(f'Запрос \"{query}\", страница {self.page}/{self.pages}')\n",
    "            time.sleep(self.timeout)\n",
    "    \n",
    "    def dump(self) -> pd.DataFrame:\n",
    "        \"\"\"Начало дампа вакансий\"\"\"\n",
    "        \n",
    "        self.__log(f'Начинаю дамп {len(self.search_queries)} запросов')\n",
    "        for query in self.search_queries:\n",
    "            self.__dump_query(query)\n",
    "            self.pages = None\n",
    "            self.__log(f'Запрос \"{query}\" обработан!')\n",
    "            \n",
    "        self.__log(f'Дамп завершен! Новых записей: {self.new_vacancies}, отброшено: {self.drop_vacancies}')\n",
    "        return self.data"
   ]
  },
  {
   "cell_type": "code",
   "execution_count": 7,
   "id": "e039cf47",
   "metadata": {},
   "outputs": [],
   "source": [
    "dumper = VacanciesDumper(\n",
    "    'https://api.hh.ru/vacancies', \n",
    "    search_queries=['it', 'ml engineer', 'data engineer', 'computer vision', 'nlp', 'neural networks'], \n",
    "    area='1'\n",
    ")"
   ]
  },
  {
   "cell_type": "code",
   "execution_count": 8,
   "id": "ef63beed",
   "metadata": {},
   "outputs": [
    {
     "name": "stdout",
     "output_type": "stream",
     "text": [
      "[21.10.23 19:04:50] Начинаю дамп 6 запросов\n",
      "[21.10.23 19:04:52] Запрос \"it\", страница 3/20\n",
      "[21.10.23 19:04:55] Запрос \"it\", страница 4/20\n",
      "[21.10.23 19:04:57] Запрос \"it\", страница 5/20\n",
      "[21.10.23 19:04:59] Запрос \"it\", страница 6/20\n",
      "[21.10.23 19:05:02] Запрос \"it\", страница 7/20\n",
      "[21.10.23 19:05:04] Запрос \"it\", страница 8/20\n",
      "[21.10.23 19:05:06] Запрос \"it\", страница 9/20\n",
      "[21.10.23 19:05:09] Запрос \"it\", страница 10/20\n",
      "[21.10.23 19:05:11] Запрос \"it\", страница 11/20\n",
      "[21.10.23 19:05:13] Запрос \"it\", страница 12/20\n",
      "[21.10.23 19:05:16] Запрос \"it\", страница 13/20\n",
      "[21.10.23 19:05:18] Запрос \"it\", страница 14/20\n",
      "[21.10.23 19:05:20] Запрос \"it\", страница 15/20\n",
      "[21.10.23 19:05:23] Запрос \"it\", страница 16/20\n",
      "[21.10.23 19:05:25] Запрос \"it\", страница 17/20\n",
      "[21.10.23 19:05:27] Запрос \"it\", страница 18/20\n",
      "[21.10.23 19:05:30] Запрос \"it\", страница 19/20\n",
      "[21.10.23 19:05:32] Запрос \"it\", страница 20/20\n",
      "[21.10.23 19:05:35] Запрос \"it\", страница 21/20\n",
      "[21.10.23 19:05:37] Запрос \"it\" обработан!\n",
      "[21.10.23 19:05:40] Запрос \"ml engineer\", страница 3/3\n",
      "[21.10.23 19:05:42] Запрос \"ml engineer\", страница 4/3\n",
      "[21.10.23 19:05:44] Запрос \"ml engineer\" обработан!\n",
      "[21.10.23 19:05:47] Запрос \"data engineer\", страница 3/9\n",
      "[21.10.23 19:05:49] Запрос \"data engineer\", страница 4/9\n",
      "[21.10.23 19:05:51] Запрос \"data engineer\", страница 5/9\n",
      "[21.10.23 19:05:53] Запрос \"data engineer\", страница 6/9\n",
      "[21.10.23 19:05:56] Запрос \"data engineer\", страница 7/9\n",
      "[21.10.23 19:05:58] Запрос \"data engineer\", страница 8/9\n",
      "[21.10.23 19:06:01] Запрос \"data engineer\", страница 9/9\n",
      "[21.10.23 19:06:03] Запрос \"data engineer\", страница 10/9\n",
      "[21.10.23 19:06:05] Запрос \"data engineer\" обработан!\n",
      "[21.10.23 19:06:07] Запрос \"computer vision\" обработан!\n",
      "[21.10.23 19:06:10] Запрос \"nlp\", страница 3/3\n",
      "[21.10.23 19:06:12] Запрос \"nlp\", страница 4/3\n",
      "[21.10.23 19:06:14] Запрос \"nlp\" обработан!\n",
      "[21.10.23 19:06:16] Запрос \"neural networks\", страница 3/5\n",
      "[21.10.23 19:06:19] Запрос \"neural networks\", страница 4/5\n",
      "[21.10.23 19:06:21] Запрос \"neural networks\", страница 5/5\n",
      "[21.10.23 19:06:23] Запрос \"neural networks\", страница 6/5\n",
      "[21.10.23 19:06:25] Запрос \"neural networks\" обработан!\n",
      "[21.10.23 19:06:25] Дамп завершен! Новых записей: 3899, отброшено: 0\n"
     ]
    }
   ],
   "source": [
    "hh_data = dumper.dump()"
   ]
  },
  {
   "cell_type": "markdown",
   "id": "2a987dab",
   "metadata": {},
   "source": [
    "# ML\n",
    "\n",
    "> Так как цель практики MLops задача очень далека от практики. Если делать хорошо, то в срок точно ничего не сдать. Возможно, если будет время, можно аналитику покрутить и до ума довести. Может даже одностраничник сделать\n",
    "\n",
    "\n",
    "Постановка задачи:\n",
    "\n",
    "**По тексту `responsibility` предсказать зарплату (когорту) [1] и потребность в специалисте (когорта, чем меньше время существования вакансии тем выше потребность в текущее время) [2]**\n",
    "\n",
    "Что сделать:\n",
    "* два набора лейблов - зп и время онбординга (считаем, от текущего времени)\n",
    "* токенизация\n",
    "* моделька - вот тут прям лениво крутить трансформеры - просто скормим XGBoost 😑\n"
   ]
  },
  {
   "cell_type": "markdown",
   "id": "361144f3",
   "metadata": {},
   "source": [
    "> Посмотрим на распределения зарплат и времени онбординга"
   ]
  },
  {
   "cell_type": "code",
   "execution_count": 29,
   "id": "bea5af4c",
   "metadata": {},
   "outputs": [],
   "source": [
    "hh_data['onboard'] = \\\n",
    "    pd.to_datetime(dt.datetime.now().strftime('%Y-%m-%dT%H:%M:%S+0300')) - pd.to_datetime(hh_data['datetime'])"
   ]
  },
  {
   "cell_type": "code",
   "execution_count": 34,
   "id": "15983308",
   "metadata": {},
   "outputs": [
    {
     "data": {
      "image/png": "[encoded data removed]",
      "text/plain": [
       "<Figure size 1080x360 with 2 Axes>"
      ]
     },
     "metadata": {
      "needs_background": "light"
     },
     "output_type": "display_data"
    }
   ],
   "source": [
    "fig, ax = plt.subplots(1, 2, figsize=(15, 5))\n",
    "sns.histplot(hh_data['salary_from'] / 1e3, ax=ax[0])\n",
    "ax[0].set_xlabel('Зарплата, тыс. рублей')\n",
    "ax[0].set_title('Распределение зарплат')\n",
    "sns.histplot(hh_data['onboard'].dt.days, ax=ax[1])\n",
    "ax[1].set_xlabel('Вакансия открыта, дней')\n",
    "ax[1].set_title('Распределение времени онбординга')\n",
    "plt.show()"
   ]
  },
  {
   "cell_type": "code",
   "execution_count": 36,
   "id": "51e78bc7",
   "metadata": {},
   "outputs": [
    {
     "data": {
      "image/png": "[encoded data removed]",
      "text/plain": [
       "<Figure size 1080x360 with 1 Axes>"
      ]
     },
     "metadata": {
      "needs_background": "light"
     },
     "output_type": "display_data"
    }
   ],
   "source": [
    "fig, ax = plt.subplots(1, figsize=(15, 5))\n",
    "sns.scatterplot(x=hh_data['salary_from'] / 1e3, y=hh_data['onboard'].dt.days, ax=ax)\n",
    "ax.set_xlabel('Зарплата, тыс. рублей')\n",
    "ax.set_ylabel('Время онбординга')\n",
    "plt.show()"
   ]
  },
  {
   "cell_type": "markdown",
   "id": "35914cca",
   "metadata": {},
   "source": [
    "> Особой зависимости нет, поэтому будем считать независимыми задачами"
   ]
  },
  {
   "cell_type": "markdown",
   "id": "c4d466d6",
   "metadata": {},
   "source": [
    "## Задача 1"
   ]
  },
  {
   "cell_type": "code",
   "execution_count": 37,
   "id": "6fc62371",
   "metadata": {},
   "outputs": [],
   "source": [
    "from transformers import BertTokenizer"
   ]
  },
  {
   "cell_type": "code",
   "execution_count": 38,
   "id": "19743d22",
   "metadata": {},
   "outputs": [
    {
     "data": {
      "application/vnd.jupyter.widget-view+json": {
       "model_id": "5170e94f63b044b4975abdab4bebc887",
       "version_major": 2,
       "version_minor": 0
      },
      "text/plain": [
       "Downloading:   0%|          | 0.00/232k [00:00<?, ?B/s]"
      ]
     },
     "metadata": {},
     "output_type": "display_data"
    },
    {
     "name": "stderr",
     "output_type": "stream",
     "text": [
      "C:\\Users\\user\\anaconda3\\lib\\site-packages\\huggingface_hub\\file_download.py:123: UserWarning: `huggingface_hub` cache-system uses symlinks by default to efficiently store duplicated files but your machine does not support them in C:\\Users\\user\\.cache\\huggingface\\hub. Caching files will still work but in a degraded version that might require more space on your disk. This warning can be disabled by setting the `HF_HUB_DISABLE_SYMLINKS_WARNING` environment variable. For more details, see https://huggingface.co/docs/huggingface_hub/how-to-cache#limitations.\n",
      "To support symlinks on Windows, you either need to activate Developer Mode or to run Python as an administrator. In order to see activate developer mode, see this article: https://docs.microsoft.com/en-us/windows/apps/get-started/enable-your-device-for-development\n",
      "  warnings.warn(message)\n"
     ]
    },
    {
     "data": {
      "application/vnd.jupyter.widget-view+json": {
       "model_id": "17b8108d57264cde912fac229fc0f1e1",
       "version_major": 2,
       "version_minor": 0
      },
      "text/plain": [
       "Downloading:   0%|          | 0.00/28.0 [00:00<?, ?B/s]"
      ]
     },
     "metadata": {},
     "output_type": "display_data"
    },
    {
     "data": {
      "application/vnd.jupyter.widget-view+json": {
       "model_id": "e05d025fc2ec48d3ad9d548aaf4a9953",
       "version_major": 2,
       "version_minor": 0
      },
      "text/plain": [
       "Downloading:   0%|          | 0.00/570 [00:00<?, ?B/s]"
      ]
     },
     "metadata": {},
     "output_type": "display_data"
    }
   ],
   "source": [
    "tokenizer = BertTokenizer.from_pretrained(\"bert-base-uncased\")"
   ]
  },
  {
   "cell_type": "markdown",
   "id": "c4bacacb",
   "metadata": {},
   "source": [
    "Возьмем 300 токенов"
   ]
  },
  {
   "cell_type": "code",
   "execution_count": 64,
   "id": "884cdbb3",
   "metadata": {},
   "outputs": [],
   "source": [
    "def get_tokens(data: pd.Series) -> Tuple[np.ndarray, List[int]]:\n",
    "    \"\"\"Токинезация текста, без батчей\n",
    "    \n",
    "    Args:\n",
    "        data (pd.Series) данные с описанием обязанностей\n",
    "        \n",
    "    Returns:\n",
    "        (Tuple[np.ndarray, List[int]]): \n",
    "            * токенезированные данные с длинной 300\n",
    "            * валидные индексы (пропускаем пустые)\n",
    "    \"\"\"\n",
    "    \n",
    "    data = data.to_list()\n",
    "    result = []\n",
    "    idx = []\n",
    "    curr_id = 0\n",
    "    for vac in tqdm(data):\n",
    "        if vac is not None:\n",
    "            result.append(\n",
    "                tokenizer.encode(vac, max_length=300, truncation=True, padding='max_length')\n",
    "            )\n",
    "            idx.append(curr_id)\n",
    "        curr_id += 1\n",
    "        \n",
    "    return np.array(result), idx"
   ]
  },
  {
   "cell_type": "code",
   "execution_count": 66,
   "id": "ad6f8aa0",
   "metadata": {},
   "outputs": [
    {
     "data": {
      "application/vnd.jupyter.widget-view+json": {
       "model_id": "2e536d6abd374ba581867e2ade08f855",
       "version_major": 2,
       "version_minor": 0
      },
      "text/plain": [
       "  0%|          | 0/3899 [00:00<?, ?it/s]"
      ]
     },
     "metadata": {},
     "output_type": "display_data"
    },
    {
     "name": "stdout",
     "output_type": "stream",
     "text": [
      "Валидных данных: 3859\n"
     ]
    }
   ],
   "source": [
    "responsibility, idx = get_tokens(hh_data['responsibility'])\n",
    "print(f\"Валидных данных: {len(idx)}\")"
   ]
  },
  {
   "cell_type": "markdown",
   "id": "b70c8982",
   "metadata": {},
   "source": [
    "Когорты по зарплате: \n",
    "\n",
    "|Когорта|Класс|\n",
    "|---|---|\n",
    "|None| 0|\n",
    "|100|1|\n",
    "|100 - 150|2|\n",
    "|150 - 200|3|\n",
    "| \\> 200|4|"
   ]
  },
  {
   "cell_type": "code",
   "execution_count": 94,
   "id": "ce271641",
   "metadata": {},
   "outputs": [],
   "source": [
    "def get_salary_cohortes(salary: pd.Series, idx: List[int]) -> np.ndarray:\n",
    "    \"\"\"Получение когорт по зарплате\n",
    "    \n",
    "    Args:\n",
    "        salary (pd.Series) данные о зарплате\n",
    "        idx (List[int]) валидные индексы\n",
    "        \n",
    "    Returns:\n",
    "        (np.ndarray): когорты зарплаты\n",
    "    \"\"\"\n",
    "    results = []\n",
    "    for curr_id in tqdm(idx):\n",
    "        if np.isnan(salary[curr_id]):\n",
    "            results.append(0)\n",
    "        elif salary[curr_id] < 100_000:\n",
    "            results.append(1)\n",
    "        elif 100_000 < salary[curr_id] < 150_000:\n",
    "            results.append(2)\n",
    "        elif 150_000 < salary[curr_id] < 200_000:\n",
    "            results.append(3)\n",
    "        else:\n",
    "            results.append(4)\n",
    "    return np.array(results)"
   ]
  },
  {
   "cell_type": "code",
   "execution_count": 95,
   "id": "0b7aaea0",
   "metadata": {},
   "outputs": [
    {
     "data": {
      "application/vnd.jupyter.widget-view+json": {
       "model_id": "a80d3b7530c64ee787da1e3688e8194f",
       "version_major": 2,
       "version_minor": 0
      },
      "text/plain": [
       "  0%|          | 0/3859 [00:00<?, ?it/s]"
      ]
     },
     "metadata": {},
     "output_type": "display_data"
    }
   ],
   "source": [
    "salary = get_salary_cohortes(hh_data['salary_from'], idx)"
   ]
  },
  {
   "cell_type": "code",
   "execution_count": 97,
   "id": "adbdc53e",
   "metadata": {},
   "outputs": [
    {
     "data": {
      "text/plain": [
       "((3859,), (3859, 300))"
      ]
     },
     "execution_count": 97,
     "metadata": {},
     "output_type": "execute_result"
    }
   ],
   "source": [
    "salary.shape, responsibility.shape"
   ]
  },
  {
   "cell_type": "markdown",
   "id": "b51bfc88",
   "metadata": {},
   "source": [
    "> Модель\n",
    "\n",
    "* спилт на трейн и тест\n",
    "* обучение на трейне\n",
    "* проверка на тесте"
   ]
  },
  {
   "cell_type": "code",
   "execution_count": 99,
   "id": "558e32c4",
   "metadata": {},
   "outputs": [
    {
     "name": "stdout",
     "output_type": "stream",
     "text": [
      "Обучающих объектов: 3087, тестовых: 772\n"
     ]
    }
   ],
   "source": [
    "X_train, X_test, y_train, y_test = train_test_split(responsibility, salary, test_size=0.2, random_state=342)\n",
    "print(f\"Обучающих объектов: {X_train.shape[0]}, тестовых: {X_test.shape[0]}\")"
   ]
  },
  {
   "cell_type": "code",
   "execution_count": 101,
   "id": "cefd4a02",
   "metadata": {},
   "outputs": [],
   "source": [
    "model = XGBClassifier(\n",
    "    n_estimators=50,\n",
    "    max_depth=10,\n",
    "    learning_rate=1e-3,\n",
    "    objective=\"multi:softmax\",\n",
    "    num_class=5,\n",
    ")\n",
    "model.fit(X_train, y_train)"
   ]
  },
  {
   "cell_type": "code",
   "execution_count": 108,
   "id": "5ae623ab",
   "metadata": {},
   "outputs": [
    {
     "name": "stdout",
     "output_type": "stream",
     "text": [
      "Результаты (ROC AUC):\n",
      "\tобучение 0.809\n",
      "\tтест     0.552\n"
     ]
    }
   ],
   "source": [
    "print(\"Результаты (ROC AUC):\")\n",
    "print(f\"\\tобучение {roc_auc_score(y_train, model.predict_proba(X_train), multi_class='ovo'):.3f}\")\n",
    "print(f\"\\tтест     {roc_auc_score(y_test, model.predict_proba(X_test), multi_class='ovo'):.3f}\")"
   ]
  },
  {
   "cell_type": "markdown",
   "id": "2abd67f3",
   "metadata": {},
   "source": [
    "## Задача 2"
   ]
  },
  {
   "cell_type": "markdown",
   "id": "fe8d0777",
   "metadata": {},
   "source": [
    "Когорты по востребованности:\n",
    "   \n",
    "|Когорта|Класс|\n",
    "|---|---|\n",
    "|< 10| 0|\n",
    "|10 - 20|1|\n",
    "|\\> 20|2|"
   ]
  },
  {
   "cell_type": "code",
   "execution_count": 116,
   "id": "95ea4e6f",
   "metadata": {},
   "outputs": [],
   "source": [
    "def get_time_cohortes(time_data: pd.Series, idx: List[int]) -> np.ndarray:\n",
    "    \"\"\"Получение когорт по востребованности\n",
    "    \n",
    "    Args:\n",
    "        salary (pd.Series) данные о времени\n",
    "        idx (List[int]) валидные индексы\n",
    "        \n",
    "    Returns:\n",
    "        (np.ndarray): когорты зарплаты\n",
    "    \"\"\"\n",
    "    results = []\n",
    "    for curr_id in tqdm(idx):\n",
    "        if time_data[curr_id].days < 10:\n",
    "            results.append(0)\n",
    "        elif 10 < time_data[curr_id].days < 20:\n",
    "            results.append(1)\n",
    "        else:\n",
    "            results.append(2)\n",
    "    return np.array(results)"
   ]
  },
  {
   "cell_type": "code",
   "execution_count": 117,
   "id": "4b3bf9db",
   "metadata": {},
   "outputs": [
    {
     "data": {
      "application/vnd.jupyter.widget-view+json": {
       "model_id": "9d0e72dbc75e4a4dbc3ac34894bac46f",
       "version_major": 2,
       "version_minor": 0
      },
      "text/plain": [
       "  0%|          | 0/3859 [00:00<?, ?it/s]"
      ]
     },
     "metadata": {},
     "output_type": "display_data"
    }
   ],
   "source": [
    "time_labels = get_time_cohortes(hh_data['onboard'], idx)"
   ]
  },
  {
   "cell_type": "code",
   "execution_count": 118,
   "id": "c9497839",
   "metadata": {},
   "outputs": [
    {
     "name": "stdout",
     "output_type": "stream",
     "text": [
      "Обучающих объектов: 3087, тестовых: 772\n"
     ]
    }
   ],
   "source": [
    "X_train, X_test, y_train, y_test = train_test_split(responsibility, time_labels, test_size=0.2, random_state=342)\n",
    "print(f\"Обучающих объектов: {X_train.shape[0]}, тестовых: {X_test.shape[0]}\")"
   ]
  },
  {
   "cell_type": "code",
   "execution_count": 119,
   "id": "6f31c9db",
   "metadata": {},
   "outputs": [
    {
     "data": {
      "text/plain": [
       "XGBClassifier(base_score=None, booster=None, callbacks=None,\n",
       "              colsample_bylevel=None, colsample_bynode=None,\n",
       "              colsample_bytree=None, early_stopping_rounds=None,\n",
       "              enable_categorical=False, eval_metric=None, feature_types=None,\n",
       "              gamma=None, gpu_id=None, grow_policy=None, importance_type=None,\n",
       "              interaction_constraints=None, learning_rate=0.001, max_bin=None,\n",
       "              max_cat_threshold=None, max_cat_to_onehot=None,\n",
       "              max_delta_step=None, max_depth=10, max_leaves=None,\n",
       "              min_child_weight=None, missing=nan, monotone_constraints=None,\n",
       "              n_estimators=50, n_jobs=None, num_class=5, num_parallel_tree=None,\n",
       "              objective='multi:softmax', ...)"
      ]
     },
     "execution_count": 119,
     "metadata": {},
     "output_type": "execute_result"
    }
   ],
   "source": [
    "model = XGBClassifier(\n",
    "    n_estimators=50,\n",
    "    max_depth=10,\n",
    "    learning_rate=1e-3,\n",
    "    objective=\"multi:softmax\",\n",
    "    num_class=5,\n",
    ")\n",
    "model.fit(X_train, y_train)"
   ]
  },
  {
   "cell_type": "code",
   "execution_count": 120,
   "id": "c94c9b74",
   "metadata": {},
   "outputs": [
    {
     "name": "stdout",
     "output_type": "stream",
     "text": [
      "Результаты (ROC AUC):\n",
      "\tобучение 0.942\n",
      "\tтест     0.561\n"
     ]
    }
   ],
   "source": [
    "print(\"Результаты (ROC AUC):\")\n",
    "print(f\"\\tобучение {roc_auc_score(y_train, model.predict_proba(X_train), multi_class='ovo'):.3f}\")\n",
    "print(f\"\\tтест     {roc_auc_score(y_test, model.predict_proba(X_test), multi_class='ovo'):.3f}\")"
   ]
  },
  {
   "cell_type": "code",
   "execution_count": null,
   "id": "eb0ab38c",
   "metadata": {},
   "outputs": [],
   "source": []
  }
 ],
 "metadata": {
  "kernelspec": {
   "display_name": "Python 3 (ipykernel)",
   "language": "python",
   "name": "python3"
  },
  "language_info": {
   "codemirror_mode": {
    "name": "ipython",
    "version": 3
   },
   "file_extension": ".py",
   "mimetype": "text/x-python",
   "name": "python",
   "nbconvert_exporter": "python",
   "pygments_lexer": "ipython3",
   "version": "3.9.12"
  }
 },
 "nbformat": 4,
 "nbformat_minor": 5
}
